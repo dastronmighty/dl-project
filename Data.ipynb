{
 "cells": [
  {
   "cell_type": "code",
   "execution_count": null,
   "metadata": {},
   "outputs": [],
   "source": [
    "from src.Data.Preprocessor import Preproccessor"
   ]
  },
  {
   "cell_type": "code",
   "execution_count": null,
   "metadata": {},
   "outputs": [],
   "source": [
    "from src.Data.Augmenter import OcularAugmenter"
   ]
  },
  {
   "cell_type": "markdown",
   "metadata": {
    "pycharm": {
     "name": "#%% md\n"
    }
   },
   "source": [
    "Data Can be downloaded from https://www.kaggle.com/andrewmvd/ocular-disease-recognition-odir5k"
   ]
  },
  {
   "cell_type": "code",
   "execution_count": null,
   "metadata": {},
   "outputs": [],
   "source": [
    "# path to data might change if you put it somewhere else\n",
    "DATA_PATH = \"./archive\""
   ]
  },
  {
   "cell_type": "markdown",
   "metadata": {
    "pycharm": {
     "name": "#%% md\n"
    }
   },
   "source": [
    "#### Pre-Process The data"
   ]
  },
  {
   "cell_type": "code",
   "execution_count": null,
   "metadata": {
    "collapsed": false,
    "jupyter": {
     "outputs_hidden": false
    },
    "pycharm": {
     "name": "#%%\n"
    }
   },
   "outputs": [],
   "source": [
    "Preproccessor(DATA_PATH, \".\", 0, 8000, verbose=True)"
   ]
  },
  {
   "cell_type": "markdown",
   "metadata": {},
   "source": [
    "#### Create Augmented Data"
   ]
  },
  {
   "cell_type": "code",
   "execution_count": null,
   "metadata": {
    "collapsed": false,
    "jupyter": {
     "outputs_hidden": false
    },
    "pycharm": {
     "name": "#%%\n"
    }
   },
   "outputs": [],
   "source": [
    "PRE_DATA_DIR = \"./preprocessed_data_images\"\n",
    "OUT_DIR = \"./\""
   ]
  },
  {
   "cell_type": "code",
   "execution_count": null,
   "metadata": {
    "collapsed": false,
    "jupyter": {
     "outputs_hidden": false
    },
    "pycharm": {
     "name": "#%%\n"
    }
   },
   "outputs": [],
   "source": [
    "OcularAugmenter(PRE_DATA_DIR, OUT_DIR, 256, invert=True, equalize=True, autocontrast=True, verbose=True)"
   ]
  },
  {
   "cell_type": "markdown",
   "metadata": {
    "pycharm": {
     "name": "#%% md\n"
    }
   },
   "source": [
    "# Create figures from the data to let us see how the images look"
   ]
  },
  {
   "cell_type": "code",
   "execution_count": null,
   "metadata": {
    "collapsed": false,
    "jupyter": {
     "outputs_hidden": false
    },
    "pycharm": {
     "name": "#%%\n"
    }
   },
   "outputs": [],
   "source": [
    "import torch\n",
    "from src.Data.Data import Data\n",
    "from src.utils.utils import show_dataset\n",
    "from src.utils.datautils import sample_from_data_loader\n",
    "\n",
    "def data_to_figures(data, save_to, name):\n",
    "    print(\"Creating Training Figure\")\n",
    "    xb, yb = sample_from_data_loader(data.get_train_data())\n",
    "    f = show_dataset(xb, yb)\n",
    "    f.suptitle('Subset of Eye Training Data', fontsize=30)\n",
    "    f.savefig(f\"{save_to}/{name}_eyes_train\")\n",
    "\n",
    "    print(\"Creating Validation Figure\")\n",
    "    xb, yb = sample_from_data_loader(data.get_val_data())\n",
    "    f = show_dataset(xb, yb)\n",
    "    f.suptitle('Subset of Eye Validation Data', fontsize=30)\n",
    "    f.savefig(f\"{save_to}/{name}_eyes_val\")\n",
    "\n",
    "    print(\"Creating Testing Figure\")\n",
    "    xb, yb = sample_from_data_loader(data.get_test_data())\n",
    "    f = show_dataset(xb, yb)\n",
    "    f.suptitle('Subset of Eye Testing Data', fontsize=30)\n",
    "    f.savefig(f\"{save_to}/{name}_eyes_test\")"
   ]
  },
  {
   "cell_type": "code",
   "execution_count": null,
   "metadata": {
    "collapsed": false,
    "jupyter": {
     "outputs_hidden": false
    },
    "pycharm": {
     "name": "#%%\n"
    }
   },
   "outputs": [],
   "source": [
    "DATA_PATH = \"./preprocessed_data_images\"\n",
    "DATA_AUG_PATH = \"./augmented\"\n",
    "FIG_DIR = \"./figs\"\n",
    "\n",
    "dev = torch.device(\"cpu\")\n",
    "\n",
    "data = Data(DATA_PATH,\n",
    "    augmented=False,\n",
    "    workers=0,\n",
    "    device=dev,\n",
    "    batch_size=128,\n",
    "    verbose=True)\n",
    "\n",
    "data_to_figures(data, FIG_DIR, \"regular\")\n",
    "\n",
    "data = Data(DATA_AUG_PATH,\n",
    "            augmented=True,\n",
    "            workers=0,\n",
    "            device=dev,\n",
    "            batch_size=128,\n",
    "            verbose=True)\n",
    "\n",
    "data_to_figures(data, FIG_DIR, \"augmented\")"
   ]
  },
  {
   "cell_type": "code",
   "execution_count": null,
   "metadata": {},
   "outputs": [],
   "source": []
  }
 ],
 "metadata": {
  "kernelspec": {
   "display_name": "PyCharm (dl-project)",
   "language": "python",
   "name": "pycharm-dcdb2fa3"
  },
  "language_info": {
   "codemirror_mode": {
    "name": "ipython",
    "version": 3
   },
   "file_extension": ".py",
   "mimetype": "text/x-python",
   "name": "python",
   "nbconvert_exporter": "python",
   "pygments_lexer": "ipython3",
   "version": "3.8.9"
  }
 },
 "nbformat": 4,
 "nbformat_minor": 4
}
