{
 "cells": [
  {
   "cell_type": "code",
   "execution_count": 2,
   "metadata": {},
   "outputs": [],
   "source": [
    "from src.experiments.experiments import BatchNormCNNExpt\n",
    "from src.experiments.experiments import VGG11Expt\n",
    "from src.experiments.experiments import ResNet50Expt\n",
    "from src.experiments.experiments import ResNet152Expt\n",
    "from src.experiments.experiments import EfficientNetB0Expt\n",
    "from src.experiments.experiments import EfficientNetB3Expt"
   ]
  },
  {
   "cell_type": "code",
   "execution_count": 3,
   "metadata": {},
   "outputs": [],
   "source": [
    "aug_directories = {\n",
    "    \"data\": \"./augmented\",\n",
    "    \"ckp\": \"./checkpoints\",\n",
    "    \"log\": \"./logs\"\n",
    "}\n",
    "\n",
    "directories = {\n",
    "    \"data\": \"./preprocessed_data_images\",\n",
    "    \"ckp\": \"./checkpoints\",\n",
    "    \"log\": \"./logs\"\n",
    "}"
   ]
  },
  {
   "cell_type": "code",
   "execution_count": null,
   "metadata": {},
   "outputs": [],
   "source": [
    "BatchNormCNNExpt(directories, 4, False)"
   ]
  },
  {
   "cell_type": "code",
   "execution_count": null,
   "metadata": {},
   "outputs": [],
   "source": [
    "VGG11Expt(aug_directories, 4, True, 10)"
   ]
  },
  {
   "cell_type": "code",
   "execution_count": null,
   "metadata": {},
   "outputs": [],
   "source": [
    "ResNet50Expt(aug_directories, 4, True, 20)"
   ]
  },
  {
   "cell_type": "code",
   "execution_count": null,
   "metadata": {},
   "outputs": [],
   "source": [
    "EfficientNetB3Expt(aug_directories, 2, True, save_every=20, bss=[32])"
   ]
  },
  {
   "cell_type": "code",
   "execution_count": null,
   "metadata": {},
   "outputs": [],
   "source": [
    "EfficientNetB0Expt(aug_directories, 4, True, 20)"
   ]
  },
  {
   "cell_type": "code",
   "execution_count": null,
   "metadata": {},
   "outputs": [],
   "source": [
    "EfficientNetB3Expt(aug_directories, \n",
    "                   4, \n",
    "                   True,\n",
    "                   lrs=[0.0001],\n",
    "                   bss=[64])"
   ]
  },
  {
   "cell_type": "code",
   "execution_count": null,
   "metadata": {},
   "outputs": [],
   "source": [
    "EfficientNetB0Expt(aug_directories, \n",
    "                    4, \n",
    "                    True, \n",
    "                    save_every=10,\n",
    "                    lrs=[0.0001],\n",
    "                    bss=[64])"
   ]
  },
  {
   "cell_type": "code",
   "execution_count": null,
   "metadata": {},
   "outputs": [],
   "source": []
  },
  {
   "cell_type": "code",
   "execution_count": null,
   "metadata": {},
   "outputs": [],
   "source": []
  }
 ],
 "metadata": {
  "kernelspec": {
   "display_name": "PyCharm (dl-project)",
   "language": "python",
   "name": "pycharm-dcdb2fa3"
  },
  "language_info": {
   "codemirror_mode": {
    "name": "ipython",
    "version": 3
   },
   "file_extension": ".py",
   "mimetype": "text/x-python",
   "name": "python",
   "nbconvert_exporter": "python",
   "pygments_lexer": "ipython3",
   "version": "3.8.9"
  }
 },
 "nbformat": 4,
 "nbformat_minor": 4
}