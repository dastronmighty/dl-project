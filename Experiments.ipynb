{
 "cells": [
  {
   "cell_type": "markdown",
   "metadata": {},
   "source": [
    "__Ensure Data is Already Downloaded/Made__\n",
    "\n",
    "see ```Data.ipnyb```"
   ]
  },
  {
   "cell_type": "markdown",
   "metadata": {},
   "source": [
    "# Imports"
   ]
  },
  {
   "cell_type": "code",
   "execution_count": null,
   "metadata": {
    "collapsed": false,
    "jupyter": {
     "outputs_hidden": false
    },
    "pycharm": {
     "name": "#%%\n"
    }
   },
   "outputs": [],
   "source": [
    "from src.experiments.experiments import BasicCNNExpt\n",
    "from src.experiments.experiments import BatchNormCNNExpt\n",
    "from src.experiments.experiments import VGG11Expt\n",
    "from src.experiments.experiments import ResNet50Expt\n",
    "from src.experiments.experiments import ResNet152Expt\n",
    "from src.experiments.experiments import EfficientNetB0Expt\n",
    "from src.experiments.experiments import EfficientNetB3Expt\n",
    "\n",
    "\n",
    "from src.experiments.PretrainedExperiments import PretrainedExperimentVGG11BN\n",
    "from src.experiments.PretrainedExperiments import PretrainedExperimentVGG13BN\n",
    "from src.experiments.PretrainedExperiments import PretrainedExperimentResNet50\n",
    "from src.experiments.PretrainedExperiments import PretrainedExperimentResNet152\n",
    "from src.experiments.PretrainedExperiments import PretrainedExperimentInceptionV3"
   ]
  },
  {
   "cell_type": "markdown",
   "metadata": {},
   "source": [
    "# Make Directories"
   ]
  },
  {
   "cell_type": "code",
   "execution_count": null,
   "metadata": {
    "collapsed": false,
    "jupyter": {
     "outputs_hidden": false
    },
    "pycharm": {
     "name": "#%%\n"
    }
   },
   "outputs": [],
   "source": [
    "! mkdir logs\n",
    "! mkdir checkpoints\n",
    "! mkdir figs"
   ]
  },
  {
   "cell_type": "code",
   "execution_count": null,
   "metadata": {},
   "outputs": [],
   "source": [
    "aug_directories = {\n",
    "    \"data\": \"./augmented\",\n",
    "    \"ckp\": \"./checkpoints\",\n",
    "    \"log\": \"./logs\"\n",
    "}\n",
    "\n",
    "directories = {\n",
    "    \"data\": \"./preprocessed_data_images\",\n",
    "    \"ckp\": \"./checkpoints\",\n",
    "    \"log\": \"./logs\"\n",
    "}"
   ]
  },
  {
   "cell_type": "code",
   "execution_count": null,
   "metadata": {
    "collapsed": false,
    "jupyter": {
     "outputs_hidden": false
    },
    "pycharm": {
     "name": "#%%\n"
    }
   },
   "outputs": [],
   "source": [
    "# How many workers to use (for Colab use 2, Kaggle use 4)\n",
    "NUMBER_WORKERS = 0"
   ]
  },
  {
   "cell_type": "markdown",
   "metadata": {
    "pycharm": {
     "name": "#%% md\n"
    }
   },
   "source": [
    "# Training From Scratch"
   ]
  },
  {
   "cell_type": "markdown",
   "metadata": {},
   "source": [
    "### Basic CNN model (Non-Augmented Data)"
   ]
  },
  {
   "cell_type": "code",
   "execution_count": null,
   "metadata": {
    "collapsed": false,
    "jupyter": {
     "outputs_hidden": false
    },
    "pycharm": {
     "name": "#%%\n"
    }
   },
   "outputs": [],
   "source": [
    "BasicCNNExpt(directories, NUMBER_WORKERS, False)"
   ]
  },
  {
   "cell_type": "markdown",
   "metadata": {
    "pycharm": {
     "name": "#%% md\n"
    }
   },
   "source": [
    "### BatchNorm CNN model (Non-Augmented Data)"
   ]
  },
  {
   "cell_type": "code",
   "execution_count": null,
   "metadata": {
    "collapsed": false,
    "jupyter": {
     "outputs_hidden": false
    },
    "pycharm": {
     "name": "#%%\n"
    }
   },
   "outputs": [],
   "source": [
    "BatchNormCNNExpt(directories, NUMBER_WORKERS, False)"
   ]
  },
  {
   "cell_type": "markdown",
   "metadata": {},
   "source": [
    "### VGG11 model"
   ]
  },
  {
   "cell_type": "code",
   "execution_count": null,
   "metadata": {},
   "outputs": [],
   "source": [
    "VGG11Expt(aug_directories, NUMBER_WORKERS, True, 10)"
   ]
  },
  {
   "cell_type": "markdown",
   "metadata": {
    "pycharm": {
     "name": "#%% md\n"
    }
   },
   "source": [
    "### ResNet50 model"
   ]
  },
  {
   "cell_type": "code",
   "execution_count": null,
   "metadata": {
    "collapsed": false,
    "jupyter": {
     "outputs_hidden": false
    },
    "pycharm": {
     "name": "#%%\n"
    }
   },
   "outputs": [],
   "source": [
    "ResNet50Expt(aug_directories, NUMBER_WORKERS, True, 20)"
   ]
  },
  {
   "cell_type": "markdown",
   "metadata": {},
   "source": [
    "### ResNet152 model"
   ]
  },
  {
   "cell_type": "code",
   "execution_count": null,
   "metadata": {
    "collapsed": false,
    "jupyter": {
     "outputs_hidden": false
    },
    "pycharm": {
     "name": "#%%\n"
    }
   },
   "outputs": [],
   "source": [
    "ResNet152Expt(aug_directories, NUMBER_WORKERS, True, 20)"
   ]
  },
  {
   "cell_type": "markdown",
   "metadata": {},
   "source": [
    "### Efficient Net B0 model"
   ]
  },
  {
   "cell_type": "code",
   "execution_count": null,
   "metadata": {},
   "outputs": [],
   "source": [
    "EfficientNetB0Expt(aug_directories, NUMBER_WORKERS, True, 20)"
   ]
  },
  {
   "cell_type": "markdown",
   "metadata": {},
   "source": [
    "### Efficient Net B3 model"
   ]
  },
  {
   "cell_type": "code",
   "execution_count": null,
   "metadata": {},
   "outputs": [],
   "source": [
    "EfficientNetB3Expt(aug_directories, \n",
    "                   NUMBER_WORKERS, \n",
    "                   True)"
   ]
  },
  {
   "cell_type": "markdown",
   "metadata": {},
   "source": [
    "### Efficient Net B0 model (Using best found Hyper-parameters)"
   ]
  },
  {
   "cell_type": "code",
   "execution_count": null,
   "metadata": {},
   "outputs": [],
   "source": [
    "EfficientNetB0Expt(aug_directories, \n",
    "                    NUMBER_WORKERS, \n",
    "                    True, \n",
    "                    save_every=10,\n",
    "                    lrs=[0.0001],\n",
    "                    bss=[64])"
   ]
  },
  {
   "cell_type": "markdown",
   "metadata": {},
   "source": [
    "# Testing models\n",
    "\n",
    "We can Test our models after we have the checkpoints"
   ]
  },
  {
   "cell_type": "code",
   "execution_count": null,
   "metadata": {
    "collapsed": false,
    "jupyter": {
     "outputs_hidden": false
    },
    "pycharm": {
     "name": "#%%\n"
    }
   },
   "outputs": [],
   "source": [
    "from src.experiments.testmodels import EfficientNetB0Test"
   ]
  },
  {
   "cell_type": "code",
   "execution_count": null,
   "metadata": {
    "collapsed": false,
    "jupyter": {
     "outputs_hidden": false
    },
    "pycharm": {
     "name": "#%%\n"
    }
   },
   "outputs": [],
   "source": [
    "ckp_path = \"\"\n",
    "data_path = \"./augmented\"\n"
   ]
  },
  {
   "cell_type": "code",
   "execution_count": null,
   "metadata": {
    "collapsed": false,
    "jupyter": {
     "outputs_hidden": false
    },
    "pycharm": {
     "name": "#%%\n"
    }
   },
   "outputs": [],
   "source": [
    "EfficientNetB0Test(ckp_path, data_path)"
   ]
  },
  {
   "cell_type": "markdown",
   "metadata": {},
   "source": [
    "# Transfer Learning"
   ]
  },
  {
   "cell_type": "markdown",
   "metadata": {},
   "source": [
    "### VGG11 Fixed Feature Extraction"
   ]
  },
  {
   "cell_type": "code",
   "execution_count": null,
   "metadata": {},
   "outputs": [],
   "source": [
    "PretrainedExperimentVGG11BN(directories,\n",
    "                            NUMBER_WORKERS,\n",
    "                            False,\n",
    "                            extra_tag=\"TransferLearningFixedFeature\",\n",
    "                            lrs=[0.01, 0.001, 0.0001, 0.00001],\n",
    "                            bss=[32, 64])"
   ]
  },
  {
   "cell_type": "markdown",
   "metadata": {},
   "source": [
    "### VGG11 Fine Tuning"
   ]
  },
  {
   "cell_type": "code",
   "execution_count": null,
   "metadata": {
    "collapsed": false,
    "jupyter": {
     "outputs_hidden": false
    },
    "pycharm": {
     "name": "#%%\n"
    }
   },
   "outputs": [],
   "source": [
    "PretrainedExperimentVGG11BN(directories,\n",
    "                            NUMBER_WORKERS,\n",
    "                            False,\n",
    "                            model_kwargs={\"mode\":\"finetuning\"},\n",
    "                            extra_tag=\"TransferLearningFineTuninf\",\n",
    "                            lrs=[0.01, 0.001, 0.0001, 0.00001],\n",
    "                            bss=[32, 64])"
   ]
  },
  {
   "cell_type": "markdown",
   "metadata": {},
   "source": [
    "### VGG13 Fixed Feature Extraction"
   ]
  },
  {
   "cell_type": "code",
   "execution_count": null,
   "metadata": {
    "collapsed": false,
    "jupyter": {
     "outputs_hidden": false
    },
    "pycharm": {
     "name": "#%%\n"
    }
   },
   "outputs": [],
   "source": [
    "PretrainedExperimentVGG11BN(directories,\n",
    "                            NUMBER_WORKERS,\n",
    "                            False,\n",
    "                            extra_tag=\"TransferLearningFixedFeature\",\n",
    "                            lrs=[0.01, 0.001, 0.0001, 0.00001],\n",
    "                            bss=[32, 64])"
   ]
  },
  {
   "cell_type": "markdown",
   "metadata": {},
   "source": [
    "### VGG13 Fine Tuning"
   ]
  },
  {
   "cell_type": "code",
   "execution_count": null,
   "metadata": {
    "collapsed": false,
    "jupyter": {
     "outputs_hidden": false
    },
    "pycharm": {
     "name": "#%%\n"
    }
   },
   "outputs": [],
   "source": [
    "PretrainedExperimentVGG13BN(directories,\n",
    "                            NUMBER_WORKERS,\n",
    "                            False,\n",
    "                            model_kwargs={\"mode\":\"finetuning\"},\n",
    "                            extra_tag=\"TransferLearningFineTuninG\",\n",
    "                            lrs=[0.01, 0.001, 0.0001, 0.00001],\n",
    "                            bss=[32, 64])"
   ]
  },
  {
   "cell_type": "markdown",
   "metadata": {},
   "source": [
    "### ResNet50 Fixed Feature Extraction"
   ]
  },
  {
   "cell_type": "code",
   "execution_count": null,
   "metadata": {
    "collapsed": false,
    "jupyter": {
     "outputs_hidden": false
    },
    "pycharm": {
     "name": "#%%\n"
    }
   },
   "outputs": [],
   "source": [
    "PretrainedExperimentResNet50(directories,\n",
    "                            NUMBER_WORKERS,\n",
    "                            False,\n",
    "                            extra_tag=\"TransferLearningFixedFeature\",\n",
    "                            lrs=[0.01, 0.001, 0.0001],\n",
    "                            bss=[64])"
   ]
  },
  {
   "cell_type": "markdown",
   "metadata": {},
   "source": [
    "### ResNet152 Fixed Feature Extraction"
   ]
  },
  {
   "cell_type": "code",
   "execution_count": null,
   "metadata": {
    "collapsed": false,
    "jupyter": {
     "outputs_hidden": false
    },
    "pycharm": {
     "name": "#%%]\n"
    }
   },
   "outputs": [],
   "source": [
    "PretrainedExperimentResNet152(directories,\n",
    "                            NUMBER_WORKERS,\n",
    "                            False,\n",
    "                            extra_tag=\"TransferLearningFixedFeature\",\n",
    "                            lrs=[0.01, 0.001, 0.0001],\n",
    "                            bss=[64])"
   ]
  },
  {
   "cell_type": "markdown",
   "metadata": {},
   "source": [
    "### InceptionNetV3 Fixed Feature Extraction"
   ]
  },
  {
   "cell_type": "code",
   "execution_count": null,
   "metadata": {
    "collapsed": false,
    "jupyter": {
     "outputs_hidden": false
    },
    "pycharm": {
     "name": "#%%\n"
    }
   },
   "outputs": [],
   "source": [
    "PretrainedExperimentInceptionV3(directories,\n",
    "                            NUMBER_WORKERS,\n",
    "                            False,\n",
    "                            extra_tag=\"TransferLearningFixedFeature\",\n",
    "                            lrs=[0.01, 0.001, 0.0001],\n",
    "                            bss=[64])\n",
    "\n"
   ]
  }
 ],
 "metadata": {
  "kernelspec": {
   "display_name": "PyCharm (dl-project)",
   "language": "python",
   "name": "pycharm-dcdb2fa3"
  },
  "language_info": {
   "codemirror_mode": {
    "name": "ipython",
    "version": 3
   },
   "file_extension": ".py",
   "mimetype": "text/x-python",
   "name": "python",
   "nbconvert_exporter": "python",
   "pygments_lexer": "ipython3",
   "version": "3.8.9"
  }
 },
 "nbformat": 4,
 "nbformat_minor": 4
}
